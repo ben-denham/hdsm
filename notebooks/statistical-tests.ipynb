{
 "cells": [
  {
   "cell_type": "code",
   "execution_count": null,
   "metadata": {},
   "outputs": [],
   "source": [
    "from collections import OrderedDict\n",
    "import matplotlib as mpl\n",
    "import matplotlib.pyplot as plt\n",
    "import numpy as np\n",
    "import Orange\n",
    "import pandas as pd\n",
    "from scipy.stats import friedmanchisquare\n",
    "import scikit_posthocs as sp\n",
    "\n",
    "mpl.rcParams['figure.dpi'] = 300"
   ]
  },
  {
   "cell_type": "markdown",
   "metadata": {},
   "source": [
    "## Algorithms Comparison"
   ]
  },
  {
   "cell_type": "code",
   "execution_count": null,
   "metadata": {},
   "outputs": [],
   "source": [
    "algorithm_accuracies = OrderedDict([\n",
    "    ('DMaxConf',         [0.4820, 0.4754, 0.5318, 0.6785, 0.7898, 0.4972, 0.5669, 0.3006, 0.3261, 0.7537, 0.7542]),\n",
    "    ('DVote',            [0.5436, 0.4728, 0.5304, 0.5566, 0.8204, 0.5572, 0.5712, 0.2996, 0.3036, 0.7065, 0.7063]),\n",
    "    ('DStack',          [0.5772, 0.9180, 0.5134, 0.7082, 0.8186, 0.9147, 0.7388, 0.3534, 0.5832, 0.7465, 0.7380]),\n",
    "    ('Park (TF 2×)',             [0.4820, 0.4754, 0.5340, 0.6785, 0.8186, 0.4972, 0.5677, 0.3006, 0.3261, 0.7930, 0.7929]),\n",
    "    ('HDSM MaxConf (TF 1×)', [0.4936, 0.6947, 0.5357, 0.7965, 0.8724, 0.8666, 0.6936, 0.3479, 0.4408, 0.8296, 0.7925]),\n",
    "    ('HDSM Voting (TF 1×)',    [0.6104, 0.7816, 0.5357, 0.8178, 0.9018, 0.9104, 0.7575, 0.3459, 0.4374, 0.7997, 0.7936]),\n",
    "    ('HDSM Stacking (TF 1×)',  [0.6165, 0.9194, 0.5128, 0.8094, 0.8936, 0.9717, 0.8077, 0.3747, 0.5602, 0.7802, 0.7630]),\n",
    "])\n",
    "algorithm_df = pd.DataFrame.from_dict(algorithm_accuracies, orient='index')\n",
    "algorithm_df"
   ]
  },
  {
   "cell_type": "code",
   "execution_count": null,
   "metadata": {},
   "outputs": [],
   "source": [
    "friedmanchisquare(*algorithm_accuracies.values())"
   ]
  },
  {
   "cell_type": "code",
   "execution_count": null,
   "metadata": {},
   "outputs": [],
   "source": [
    "sp.posthoc_nemenyi_friedman(algorithm_df.transpose().values.tolist()).style.applymap(\n",
    "    lambda x: 'color: {}'.format('red' if x < 0.05 else 'black'))"
   ]
  },
  {
   "cell_type": "code",
   "execution_count": null,
   "metadata": {},
   "outputs": [],
   "source": [
    "ranks = algorithm_df.rank(ascending=False)\n",
    "avg_ranks_series = ranks.mean(axis=1)\n",
    "avg_ranks = avg_ranks_series.tolist()\n",
    "names = avg_ranks_series.index.tolist()\n",
    "dataset_count = len(list(algorithm_accuracies.values())[0])\n",
    "cd = Orange.evaluation.compute_CD(avg_ranks, dataset_count, alpha='0.05')\n",
    "print('Critical value:', cd)\n",
    "Orange.evaluation.graph_ranks(avg_ranks, names, cd=cd, width=6, textspace=1.5, reverse=True)\n",
    "plt.show()"
   ]
  },
  {
   "cell_type": "code",
   "execution_count": null,
   "metadata": {},
   "outputs": [],
   "source": []
  }
 ],
 "metadata": {
  "kernelspec": {
   "display_name": "Python 3",
   "language": "python",
   "name": "python3"
  },
  "language_info": {
   "codemirror_mode": {
    "name": "ipython",
    "version": 3
   },
   "file_extension": ".py",
   "mimetype": "text/x-python",
   "name": "python",
   "nbconvert_exporter": "python",
   "pygments_lexer": "ipython3",
   "version": "3.6.6"
  },
  "toc": {
   "base_numbering": 1,
   "nav_menu": {},
   "number_sections": false,
   "sideBar": false,
   "skip_h1_title": false,
   "title_cell": "Table of Contents",
   "title_sidebar": "Contents",
   "toc_cell": false,
   "toc_position": {},
   "toc_section_display": false,
   "toc_window_display": false
  }
 },
 "nbformat": 4,
 "nbformat_minor": 2
}
