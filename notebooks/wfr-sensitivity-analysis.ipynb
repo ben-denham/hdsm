{
 "cells": [
  {
   "cell_type": "code",
   "execution_count": null,
   "metadata": {},
   "outputs": [],
   "source": [
    "%%bash\n",
    "lein uberjar"
   ]
  },
  {
   "cell_type": "code",
   "execution_count": null,
   "metadata": {},
   "outputs": [],
   "source": [
    "%classpath add jar ../target/jvm/uberjar/hdsm-0.1.0-SNAPSHOT-standalone.jar\n",
    "(clojure.lang.Compiler/loadFile \"jupyter_helpers.clj\")\n",
    "(require '[clojure.java.io :as io]\n",
    "         '[clojure.string :as string]\n",
    "         '[clojure.pprint :refer [pprint print-table]]\n",
    "         '[jupyter-helpers :refer [run-and-save-experiments load-experiment site-summary-table experiment-timeline experiments-summary-table\n",
    "                                   display-html confusion-summary display-experiment-models get-best-experiment-label load-experiment-pair\n",
    "                                   get-timing-evaluation timing-table get-experiment-block-accuracies experiment-block-accuracies-table\n",
    "                                   save-data load-data]]\n",
    "         '[hdsm.classifier.distributed.sites :refer [make-site-structure p-site t-site]]\n",
    "         '[hdsm.classifier.moa-classifier :refer [adaptive-random-forest naive-bayes]]\n",
    "         '[hdsm.evaluation :refer [get-order-summary]]\n",
    "         '[hdsm.dataset.csv-dataset :refer [read-csv-dataset]]\n",
    "         '[hdsm.utils.stats :refer [mann-whitney-u-test wilcoxon-signed-rank-test]])"
   ]
  },
  {
   "cell_type": "markdown",
   "metadata": {},
   "source": [
    "## Experiment Setup"
   ]
  },
  {
   "cell_type": "code",
   "execution_count": null,
   "metadata": {},
   "outputs": [],
   "source": [
    ";; Dataset Configuration\n",
    "\n",
    "(defn dataset-fn []\n",
    "    (read-csv-dataset \"datasets/wall-following-robot/wall-following-robot-twice.csv\"\n",
    "                      999999 ;; All records\n",
    "                      ;; Numeric features (sensor_0 - sensor_23)\n",
    "                      (into [] (map #(str \"sensor_\" %) (range 24)))))\n",
    "(def dataset-name \"wfr-sensitivity-analysis\")\n",
    "(def feature-count 24) ;; Not including class\n",
    "(def features-per-site 4)\n",
    "\n",
    "(def trouble-factor features-per-site)\n",
    "(def p-sites\n",
    "    (for [[i site-features] (map vector (range feature-count) (partition features-per-site (range feature-count)))]\n",
    "        (p-site (keyword (str \"p-\" i)) site-features)))\n",
    "\n",
    "(def dataset (dataset-fn))\n",
    "(defn dataset-fn [] dataset)"
   ]
  },
  {
   "cell_type": "code",
   "execution_count": null,
   "metadata": {},
   "outputs": [],
   "source": [
    ";; Experiment Configuration\n",
    "\n",
    "(def base-classifier naive-bayes)\n",
    "(def trouble-classifier adaptive-random-forest)\n",
    "\n",
    "(def base-setup\n",
    "    {:dataset-description (keyword dataset-name)\n",
    "     :dataset-fn dataset-fn\n",
    "     :trouble-classifier trouble-classifier\n",
    "     :base-site-structure (apply make-site-structure feature-count p-sites)\n",
    "     ;; Disable monitor logging because this is a long-running experiment\n",
    "     ;; where detailed logging data is excessively large.\n",
    "     :disable-monitor-logging true\n",
    "     :p-site-aggregation-rule {:type :simple-voting}})\n",
    "\n",
    "(def base-system-config\n",
    "    {:site-window-size 1000\n",
    "     :site-training-time 0\n",
    "     :shared-sources? false\n",
    "     :creation-window-size 1000\n",
    "     :creation-time-threshold 500\n",
    "     :removal-window-size 1000\n",
    "     :removal-time-threshold 500\n",
    "     :creation-agreement-threshold {:type :smoothed-hoeffding-bound\n",
    "                                    :r 1 :delta 0.001 :sharpness 5}\n",
    "     :removal-accuracy-threshold {:type :hoeffding-bound\n",
    "                                  :r 1 :delta 0.001}\n",
    "     :removal-usage-threshold 0.05\n",
    "     :trouble-factor trouble-factor})\n",
    "\n",
    "(def window-sizes [500 1000 2000])\n",
    "(def ws-experiments\n",
    "    (for [window-size window-sizes]\n",
    "        (assoc base-setup\n",
    "            :label (keyword (str dataset-name \"-hdsm\"\n",
    "                                 \"-ws\" window-size))\n",
    "            :system-config (assoc base-system-config\n",
    "                               :site-window-size window-size\n",
    "                               :creation-window-size window-size\n",
    "                               :removal-window-size window-size))))\n",
    "\n",
    "(def threshold-times [100 500 1000])\n",
    "(def tt-experiments\n",
    "    (for [threshold-time threshold-times]\n",
    "        (assoc base-setup\n",
    "            :label (keyword (str dataset-name \"-hdsm\"\n",
    "                                 \"-tt\" threshold-time))\n",
    "            :system-config (assoc base-system-config\n",
    "                               :creation-time-threshold threshold-time\n",
    "                               :removal-time-threshold threshold-time))))\n",
    "\n",
    "(def removal-usage-thresholds [0.01 0.05 0.15])\n",
    "(def rut-experiments\n",
    "    (for [removal-usage-threshold removal-usage-thresholds]\n",
    "        (assoc base-setup\n",
    "            :label (keyword (str dataset-name \"-hdsm\"\n",
    "                                 \"-rut\" removal-usage-threshold))\n",
    "            :system-config (assoc base-system-config\n",
    "                               :removal-usage-threshold removal-usage-threshold))))\n",
    "\n",
    "(def hoeffding-bounds [0.000000001 0.001 0.1])\n",
    "(def hb-experiments\n",
    "    (for [hoeffding-bound hoeffding-bounds]\n",
    "        (assoc base-setup\n",
    "            :label (keyword (str dataset-name \"-hdsm\"\n",
    "                                 \"-hb\" hoeffding-bound))\n",
    "            :system-config (-> base-system-config\n",
    "                               (assoc-in [:creation-agreement-threshold :delta] hoeffding-bound)\n",
    "                               (assoc-in [:removal-accuracy-threshold :delta] hoeffding-bound)))))\n",
    "\n",
    "(def smoothing-factors [1 5 10])\n",
    "(def sf-experiments\n",
    "    (for [smoothing-factor smoothing-factors]\n",
    "        (assoc base-setup\n",
    "            :label (keyword (str dataset-name \"-hdsm\"\n",
    "                                 \"-sf\" smoothing-factor))\n",
    "            :system-config (assoc-in base-system-config\n",
    "                               [:creation-agreement-threshold :sharpness] smoothing-factor))))\n",
    "\n",
    "(def experiments (concat ws-experiments\n",
    "                         tt-experiments\n",
    "                         rut-experiments\n",
    "                         hb-experiments\n",
    "                         sf-experiments\n",
    "                         ws-experiments\n",
    "                         tt-experiments\n",
    "                         rut-experiments\n",
    "                         hb-experiments\n",
    "                         sf-experiments\n",
    "                         ))\n",
    "\n",
    "(def output-dir (str \"workspace/\" dataset-name))"
   ]
  },
  {
   "cell_type": "markdown",
   "metadata": {},
   "source": [
    "## Run Experiments"
   ]
  },
  {
   "cell_type": "code",
   "execution_count": null,
   "metadata": {
    "scrolled": true
   },
   "outputs": [],
   "source": [
    "(import '[com.twosigma.beakerx.widget Output])\n",
    "(def experiment-output (Output.))\n",
    "experiment-output"
   ]
  },
  {
   "cell_type": "code",
   "execution_count": null,
   "metadata": {},
   "outputs": [],
   "source": [
    "(run-and-save-experiments output-dir base-classifier experiments\n",
    "                          :beaker-output experiment-output\n",
    "                          :thread-count 1)"
   ]
  },
  {
   "cell_type": "markdown",
   "metadata": {},
   "source": [
    "## Experiments Summary"
   ]
  },
  {
   "cell_type": "code",
   "execution_count": null,
   "metadata": {},
   "outputs": [],
   "source": [
    "(def experiments-summary\n",
    "    (load-experiment output-dir :summary))\n",
    "\n",
    "(experiments-summary-table experiments-summary)"
   ]
  },
  {
   "cell_type": "markdown",
   "metadata": {},
   "source": [
    "## Visualisation"
   ]
  },
  {
   "cell_type": "code",
   "execution_count": null,
   "metadata": {},
   "outputs": [],
   "source": [
    "(def experiments\n",
    "    (->> experiments-summary\n",
    "         (map :label)\n",
    "         (filter #(string/starts-with? (str %) \":wfr-sensitivity-analysis-hdsm-ws\"))\n",
    "         (map #(load-experiment output-dir %))))\n",
    "(count experiments)"
   ]
  },
  {
   "cell_type": "code",
   "execution_count": null,
   "metadata": {},
   "outputs": [],
   "source": [
    "(def partition-size 100)\n",
    "(let [result-count (count (:results (first experiments)))]\n",
    "    (.display (experiment-timeline (last experiments)\n",
    "                                   (into {}\n",
    "                                         (map vector\n",
    "                                              (map :label experiments)\n",
    "                                              experiments))\n",
    "                                   :partition-size partition-size\n",
    "                                   :x-bounds [0 result-count]\n",
    "                                   :y-bounds-acc [0.35 1.2]\n",
    "                                   :y-bounds-data [0 1.2]\n",
    "                                   :event-rows 6\n",
    "                                   :include-timing-plot? false)))"
   ]
  },
  {
   "cell_type": "markdown",
   "metadata": {},
   "source": [
    "## Timing Evaluation"
   ]
  },
  {
   "cell_type": "code",
   "execution_count": null,
   "metadata": {},
   "outputs": [],
   "source": [
    "(def timing-evaluation (get-timing-evaluation output-dir\n",
    "                                              (distinct (map :label experiments-summary)) ;; Drop repeated experiment labels\n",
    "                                              1000))"
   ]
  },
  {
   "cell_type": "code",
   "execution_count": null,
   "metadata": {},
   "outputs": [],
   "source": [
    "(save-data (str output-dir \"/:timing-summary.edn\") timing-evaluation)"
   ]
  },
  {
   "cell_type": "code",
   "execution_count": null,
   "metadata": {},
   "outputs": [],
   "source": [
    "(timing-table timing-evaluation)"
   ]
  },
  {
   "cell_type": "markdown",
   "metadata": {},
   "source": [
    "## Block-based Summaries"
   ]
  },
  {
   "cell_type": "code",
   "execution_count": null,
   "metadata": {},
   "outputs": [],
   "source": [
    "(def experiment-block-accuracies (get-experiment-block-accuracies output-dir\n",
    "                                                                  (distinct (map :label experiments-summary)) ;; Drop repeated experiment labels\n",
    "                                                                  1000))\n",
    "(save-data (str output-dir \"/block-accuracies.edn\") experiment-block-accuracies)\n",
    "nil"
   ]
  },
  {
   "cell_type": "code",
   "execution_count": null,
   "metadata": {},
   "outputs": [],
   "source": [
    "(def experiment-block-accuracies (load-data (str output-dir \"/block-accuracies.edn\")))"
   ]
  },
  {
   "cell_type": "code",
   "execution_count": null,
   "metadata": {},
   "outputs": [],
   "source": [
    "(experiment-block-accuracies-table experiment-block-accuracies)"
   ]
  },
  {
   "cell_type": "code",
   "execution_count": null,
   "metadata": {},
   "outputs": [],
   "source": []
  }
 ],
 "metadata": {
  "kernelspec": {
   "display_name": "Clojure",
   "language": "clojure",
   "name": "clojure"
  },
  "language_info": {
   "codemirror_mode": "Clojure",
   "file_extension": ".clj",
   "mimetype": "text/x-clojure",
   "name": "Clojure",
   "nbconverter_exporter": "",
   "version": "1.9.0"
  },
  "toc": {
   "base_numbering": 1,
   "nav_menu": {},
   "number_sections": false,
   "sideBar": false,
   "skip_h1_title": false,
   "title_cell": "Table of Contents",
   "title_sidebar": "Contents",
   "toc_cell": false,
   "toc_position": {},
   "toc_section_display": false,
   "toc_window_display": false
  }
 },
 "nbformat": 4,
 "nbformat_minor": 2
}
